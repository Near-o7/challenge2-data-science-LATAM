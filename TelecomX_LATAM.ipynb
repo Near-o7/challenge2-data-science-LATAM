{
  "nbformat": 4,
  "nbformat_minor": 0,
  "metadata": {
    "colab": {
      "provenance": [],
      "toc_visible": true,
      "include_colab_link": true
    },
    "kernelspec": {
      "name": "python3",
      "display_name": "Python 3"
    },
    "language_info": {
      "name": "python"
    }
  },
  "cells": [
    {
      "cell_type": "markdown",
      "metadata": {
        "id": "view-in-github",
        "colab_type": "text"
      },
      "source": [
        "<a href=\"https://colab.research.google.com/github/Near-o7/challenge2-data-science-LATAM/blob/main/TelecomX_LATAM.ipynb\" target=\"_parent\"><img src=\"https://colab.research.google.com/assets/colab-badge.svg\" alt=\"Open In Colab\"/></a>"
      ]
    },
    {
      "cell_type": "markdown",
      "source": [
        "#📌 Extracción"
      ],
      "metadata": {
        "id": "4foVEKhrlqcH"
      }
    },
    {
      "cell_type": "markdown",
      "source": [
        "Se extraen los datos desde la URL proporcionada (en formato JSON) y se almacenan en un DataFrame"
      ],
      "metadata": {
        "id": "DZhNNm_IftxC"
      }
    },
    {
      "cell_type": "code",
      "source": [
        "import pandas as pd\n",
        "\n",
        "url = 'https://raw.githubusercontent.com/ingridcristh/challenge2-data-science-LATAM/refs/heads/main/TelecomX_Data.json'\n",
        "df = pd.read_json(url)\n",
        "df.head()"
      ],
      "metadata": {
        "id": "1--uPM88l7JH",
        "outputId": "8f6b54cc-7b0c-4cc1-f582-e4cdbaf1a8c6",
        "colab": {
          "base_uri": "https://localhost:8080/"
        }
      },
      "execution_count": 7,
      "outputs": [
        {
          "output_type": "stream",
          "name": "stdout",
          "text": [
            "<class 'pandas.core.frame.DataFrame'>\n",
            "RangeIndex: 7267 entries, 0 to 7266\n",
            "Data columns (total 6 columns):\n",
            " #   Column      Non-Null Count  Dtype \n",
            "---  ------      --------------  ----- \n",
            " 0   customerID  7267 non-null   object\n",
            " 1   Churn       7267 non-null   object\n",
            " 2   customer    7267 non-null   object\n",
            " 3   phone       7267 non-null   object\n",
            " 4   internet    7267 non-null   object\n",
            " 5   account     7267 non-null   object\n",
            "dtypes: object(6)\n",
            "memory usage: 340.8+ KB\n"
          ]
        }
      ]
    },
    {
      "cell_type": "markdown",
      "source": [
        "Se observa que algunas columnas contienen registros anidados en forma de diccionarios, por lo que es necesario normalizar los datos. Este proceso se abordará en la sección '🔧 Transformación'."
      ],
      "metadata": {
        "id": "VuGljYTagMe0"
      }
    },
    {
      "cell_type": "code",
      "source": [],
      "metadata": {
        "id": "NSiIjKAApy4d"
      },
      "execution_count": null,
      "outputs": []
    },
    {
      "cell_type": "markdown",
      "source": [
        "#🔧 Transformación"
      ],
      "metadata": {
        "id": "1lSZP8zmmGZu"
      }
    },
    {
      "cell_type": "markdown",
      "source": [
        "## Identificando el tipo de datos"
      ],
      "metadata": {
        "id": "K3nqNhmHpsNo"
      }
    },
    {
      "cell_type": "code",
      "source": [
        "df.info()\n",
        "df.dtypes"
      ],
      "metadata": {
        "id": "bsm-WTLjmHvt",
        "outputId": "2b5c3b4c-bc03-4d39-9af8-be01d9b70eb9",
        "colab": {
          "base_uri": "https://localhost:8080/",
          "height": 504
        }
      },
      "execution_count": 9,
      "outputs": [
        {
          "output_type": "stream",
          "name": "stdout",
          "text": [
            "<class 'pandas.core.frame.DataFrame'>\n",
            "RangeIndex: 7267 entries, 0 to 7266\n",
            "Data columns (total 6 columns):\n",
            " #   Column      Non-Null Count  Dtype \n",
            "---  ------      --------------  ----- \n",
            " 0   customerID  7267 non-null   object\n",
            " 1   Churn       7267 non-null   object\n",
            " 2   customer    7267 non-null   object\n",
            " 3   phone       7267 non-null   object\n",
            " 4   internet    7267 non-null   object\n",
            " 5   account     7267 non-null   object\n",
            "dtypes: object(6)\n",
            "memory usage: 340.8+ KB\n"
          ]
        },
        {
          "output_type": "execute_result",
          "data": {
            "text/plain": [
              "customerID    object\n",
              "Churn         object\n",
              "customer      object\n",
              "phone         object\n",
              "internet      object\n",
              "account       object\n",
              "dtype: object"
            ],
            "text/html": [
              "<div>\n",
              "<style scoped>\n",
              "    .dataframe tbody tr th:only-of-type {\n",
              "        vertical-align: middle;\n",
              "    }\n",
              "\n",
              "    .dataframe tbody tr th {\n",
              "        vertical-align: top;\n",
              "    }\n",
              "\n",
              "    .dataframe thead th {\n",
              "        text-align: right;\n",
              "    }\n",
              "</style>\n",
              "<table border=\"1\" class=\"dataframe\">\n",
              "  <thead>\n",
              "    <tr style=\"text-align: right;\">\n",
              "      <th></th>\n",
              "      <th>0</th>\n",
              "    </tr>\n",
              "  </thead>\n",
              "  <tbody>\n",
              "    <tr>\n",
              "      <th>customerID</th>\n",
              "      <td>object</td>\n",
              "    </tr>\n",
              "    <tr>\n",
              "      <th>Churn</th>\n",
              "      <td>object</td>\n",
              "    </tr>\n",
              "    <tr>\n",
              "      <th>customer</th>\n",
              "      <td>object</td>\n",
              "    </tr>\n",
              "    <tr>\n",
              "      <th>phone</th>\n",
              "      <td>object</td>\n",
              "    </tr>\n",
              "    <tr>\n",
              "      <th>internet</th>\n",
              "      <td>object</td>\n",
              "    </tr>\n",
              "    <tr>\n",
              "      <th>account</th>\n",
              "      <td>object</td>\n",
              "    </tr>\n",
              "  </tbody>\n",
              "</table>\n",
              "</div><br><label><b>dtype:</b> object</label>"
            ]
          },
          "metadata": {},
          "execution_count": 9
        }
      ]
    },
    {
      "cell_type": "markdown",
      "source": [
        "Se observa que las el tipo de datos de las columnas se representa como objeto. Luego de normalizar correctamente los datos este aspecto deberá ser abordado."
      ],
      "metadata": {
        "id": "C3tJrkLyo7zN"
      }
    },
    {
      "cell_type": "markdown",
      "source": [
        "## Diccionario de datos"
      ],
      "metadata": {
        "id": "vj8Y5bsLp1Y3"
      }
    },
    {
      "cell_type": "markdown",
      "source": [
        "A continuación se presenta un diccionario de datos del conjunto de datos\n",
        "\n",
        "- `customerID`: número de identificación único de cada cliente\n",
        "- `Churn`: si el cliente dejó o no la empresa\n",
        "- `gender`: género (masculino y femenino)\n",
        "- `SeniorCitizen`: información sobre si un cliente tiene o no una edad igual o mayor a 65 años\n",
        "- `Partner`: si el cliente tiene o no una pareja\n",
        "- `Dependents`: si el cliente tiene o no dependientes\n",
        "- `tenure`: meses de contrato del cliente\n",
        "- `PhoneService`: suscripción al servicio telefónico\n",
        "- `MultipleLines`: suscripción a más de una línea telefónica\n",
        "- `InternetService`: suscripción a un proveedor de internet\n",
        "- `OnlineSecurity`: suscripción adicional de seguridad en línea\n",
        "- `OnlineBackup`: suscripción adicional de respaldo en línea\n",
        "- `DeviceProtection`: suscripción adicional de protección del dispositivo\n",
        "- `TechSupport`: suscripción adicional de soporte técnico, menor tiempo de espera\n",
        "- `StreamingTV`: suscripción de televisión por cable\n",
        "- `StreamingMovies`: suscripción de streaming de películas\n",
        "- `Contract`: tipo de contrato\n",
        "- `PaperlessBilling`: si el cliente prefiere recibir la factura en línea\n",
        "- `PaymentMethod`: forma de pago\n",
        "- `Charges.Monthly`: total de todos los servicios del cliente por mes\n",
        "- `Charges.Total`: total gastado por el cliente"
      ],
      "metadata": {
        "id": "1W3vcEo9p6nx"
      }
    },
    {
      "cell_type": "markdown",
      "source": [
        "## Identificando columnas"
      ],
      "metadata": {
        "id": "tJu-w94YqZs1"
      }
    },
    {
      "cell_type": "markdown",
      "source": [
        "A priori, podemos identificar algunas columnas clave para nuestro análisis, basándonos en el análisis exploratorio inicial y el diccionario de datos. Entre las más relevantes se encuentran:\n",
        "\n",
        "- **Churn**: Indica si un cliente ha abandonado la empresa o no.\n",
        "- **PaymentMethod**: Podría ayudarnos a detectar si existe una relación entre el método de pago y la propensión a la evasión.\n",
        "- **Tenure**: Refleja la antigüedad de los clientes, lo que podría ser útil para entender su lealtad.\n",
        "- **Charges.Monthly y Charges.Total**: Permiten evaluar si existe una relación entre el monto cobrado a los clientes y la probabilidad de evasión.\n",
        "\n",
        "Existen otras columnas de interés que analizaremos con mayor detalle en las siguientes secciones.\n"
      ],
      "metadata": {
        "id": "dKHQUB7-qhE8"
      }
    },
    {
      "cell_type": "markdown",
      "source": [
        "#📊 Carga y análisis"
      ],
      "metadata": {
        "id": "6XnTC2NTmMRL"
      }
    },
    {
      "cell_type": "code",
      "source": [],
      "metadata": {
        "id": "1jgUnLqTmPdd"
      },
      "execution_count": 1,
      "outputs": []
    },
    {
      "cell_type": "markdown",
      "source": [
        "#📄Informe final"
      ],
      "metadata": {
        "id": "v-WzfSvTmaw9"
      }
    },
    {
      "cell_type": "code",
      "source": [],
      "metadata": {
        "id": "XMTac0YJmeK9"
      },
      "execution_count": 1,
      "outputs": []
    }
  ]
}